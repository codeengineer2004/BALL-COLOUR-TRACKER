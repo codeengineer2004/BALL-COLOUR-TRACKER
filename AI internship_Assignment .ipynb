{
  "nbformat": 4,
  "nbformat_minor": 0,
  "metadata": {
    "colab": {
      "provenance": []
    },
    "kernelspec": {
      "name": "python3",
      "display_name": "Python 3"
    },
    "language_info": {
      "name": "python"
    }
  },
  "cells": [
    {
      "cell_type": "code",
      "execution_count": 1,
      "metadata": {
        "colab": {
          "base_uri": "https://localhost:8080/"
        },
        "id": "G_7bHKGq1vfH",
        "outputId": "7dbd8c9b-0fa7-4637-b21b-55d903f7a1b2"
      },
      "outputs": [
        {
          "output_type": "stream",
          "name": "stdout",
          "text": [
            "Drive already mounted at /content/drive; to attempt to forcibly remount, call drive.mount(\"/content/drive\", force_remount=True).\n"
          ]
        }
      ],
      "source": [
        "import cv2\n",
        "import numpy as np\n",
        "import pandas as pd\n",
        "import os\n",
        "import time\n",
        "from google.colab import drive\n",
        "drive.mount('/content/drive')\n",
        "color_ranges = {\n",
        "    'red': ((0, 100, 100), (10, 255, 255)),\n",
        "    'green': ((50, 100, 100), (70, 255, 255)),\n",
        "    'blue': ((100, 100, 100), (130, 255, 255))\n",
        "}\n",
        "\n",
        "def detect_balls(frame, color_ranges):\n",
        "    hsv_frame = cv2.cvtColor(frame, cv2.COLOR_BGR2HSV)\n",
        "    detected_balls = []\n",
        "\n",
        "    for color, (lower, upper) in color_ranges.items():\n",
        "        mask = cv2.inRange(hsv_frame, np.array(lower), np.array(upper))\n",
        "        contours, _ = cv2.findContours(mask, cv2.RETR_TREE, cv2.CHAIN_APPROX_SIMPLE)\n",
        "\n",
        "        for contour in contours:\n",
        "            area = cv2.contourArea(contour)\n",
        "            if area > 500:  # Filter by area\n",
        "                x, y, w, h = cv2.boundingRect(contour)\n",
        "                detected_balls.append((color, x + w//2, y + h//2))\n",
        "\n",
        "    return detected_balls\n",
        "\n",
        "def get_quadrant(x, y, width, height):\n",
        "    if x < width // 2:\n",
        "        if y < height // 2:\n",
        "            return 1\n",
        "        else:\n",
        "            return 3\n",
        "    else:\n",
        "        if y < height // 2:\n",
        "            return 2\n",
        "        else:\n",
        "            return 4\n",
        "\n",
        "def process_video(video_path, output_video_path, output_text_path):\n",
        "    os.makedirs(os.path.dirname(output_video_path), exist_ok=True)\n",
        "    os.makedirs(os.path.dirname(output_text_path), exist_ok=True)\n",
        "    cap = cv2.VideoCapture(video_path)\n",
        "    frame_width = int(cap.get(3))\n",
        "    frame_height = int(cap.get(4))\n",
        "    fps = cap.get(cv2.CAP_PROP_FPS)\n",
        "    out = cv2.VideoWriter(output_video_path, cv2.VideoWriter_fourcc(*'XVID'), fps, (frame_width, frame_height))\n",
        "    event_log = []\n",
        "    ball_positions = {}\n",
        "    start_time = time.time()\n",
        "    while cap.isOpened():\n",
        "        ret, frame = cap.read()\n",
        "        if not ret:\n",
        "            break\n",
        "\n",
        "        current_time = time.time() - start_time\n",
        "        detected_balls = detect_balls(frame, color_ranges)\n",
        "\n",
        "        for color, x, y in detected_balls:\n",
        "            quadrant = get_quadrant(x, y, frame_width, frame_height)\n",
        "\n",
        "            if color not in ball_positions:\n",
        "                ball_positions[color] = quadrant\n",
        "                event_log.append((current_time, quadrant, color, 'Entry'))\n",
        "                cv2.putText(frame, f'{color} Entry at {current_time:.2f}s', (x, y), cv2.FONT_HERSHEY_SIMPLEX, 0.6, (255, 255, 255), 2)\n",
        "            elif ball_positions[color] != quadrant:\n",
        "                event_log.append((current_time, quadrant, color, 'Entry'))\n",
        "                event_log.append((current_time, ball_positions[color], color, 'Exit'))\n",
        "                cv2.putText(frame, f'{color} Entry at {current_time:.2f}s', (x, y), cv2.FONT_HERSHEY_SIMPLEX, 0.6, (255, 255, 255), 2)\n",
        "                ball_positions[color] = quadrant\n",
        "\n",
        "        out.write(frame)\n",
        "\n",
        "    cap.release()\n",
        "    out.release()\n",
        "    with open(output_text_path, 'w') as f:\n",
        "        for event in event_log:\n",
        "            f.write(f'{event[0]:.2f}, {event[1]}, {event[2]}, {event[3]}\\n')\n",
        "\n",
        "input_video_path = '/content/drive/MyDrive/Anemia iron deficency (nails)/AI Assignment video.mp4'\n",
        "output_video_path = '/content/drive/My Drive/output/processed_video.avi'\n",
        "output_text_path = '/content/drive/My Drive/output/event_log.txt'\n",
        "\n",
        "process_video(input_video_path, output_video_path, output_text_path)\n"
      ]
    }
  ]
}